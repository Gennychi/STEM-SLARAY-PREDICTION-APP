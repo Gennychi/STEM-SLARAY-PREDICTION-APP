{
 "cells": [
  {
   "cell_type": "code",
   "execution_count": 1,
   "id": "d88accb7",
   "metadata": {},
   "outputs": [],
   "source": [
    "import pandas as pd\n",
    "import numpy as np\n",
    "import seaborn as sns\n",
    "import matplotlib.pyplot as plt\n",
    "\n",
    "plt.style.use('ggplot')\n",
    "from matplotlib.pyplot import figure\n",
    "\n",
    "%matplotlib inline\n",
    "\n",
    "\n",
    "#remove unecessary warnings\n",
    "import warnings\n",
    "warnings.filterwarnings(\"ignore\")"
   ]
  },
  {
   "cell_type": "code",
   "execution_count": 2,
   "id": "f38e9b60",
   "metadata": {},
   "outputs": [],
   "source": [
    "df = pd.read_csv(\"Levels_Fyi_Salary_Data.csv\")"
   ]
  },
  {
   "cell_type": "code",
   "execution_count": 3,
   "id": "4331f21e",
   "metadata": {},
   "outputs": [
    {
     "data": {
      "text/html": [
       "<div>\n",
       "<style scoped>\n",
       "    .dataframe tbody tr th:only-of-type {\n",
       "        vertical-align: middle;\n",
       "    }\n",
       "\n",
       "    .dataframe tbody tr th {\n",
       "        vertical-align: top;\n",
       "    }\n",
       "\n",
       "    .dataframe thead th {\n",
       "        text-align: right;\n",
       "    }\n",
       "</style>\n",
       "<table border=\"1\" class=\"dataframe\">\n",
       "  <thead>\n",
       "    <tr style=\"text-align: right;\">\n",
       "      <th></th>\n",
       "      <th>timestamp</th>\n",
       "      <th>company</th>\n",
       "      <th>level</th>\n",
       "      <th>title</th>\n",
       "      <th>totalyearlycompensation</th>\n",
       "      <th>location</th>\n",
       "      <th>yearsofexperience</th>\n",
       "      <th>yearsatcompany</th>\n",
       "      <th>tag</th>\n",
       "      <th>basesalary</th>\n",
       "      <th>...</th>\n",
       "      <th>Doctorate_Degree</th>\n",
       "      <th>Highschool</th>\n",
       "      <th>Some_College</th>\n",
       "      <th>Race_Asian</th>\n",
       "      <th>Race_White</th>\n",
       "      <th>Race_Two_Or_More</th>\n",
       "      <th>Race_Black</th>\n",
       "      <th>Race_Hispanic</th>\n",
       "      <th>Race</th>\n",
       "      <th>Education</th>\n",
       "    </tr>\n",
       "  </thead>\n",
       "  <tbody>\n",
       "    <tr>\n",
       "      <th>0</th>\n",
       "      <td>6/7/2017 11:33:27</td>\n",
       "      <td>Oracle</td>\n",
       "      <td>L3</td>\n",
       "      <td>Product Manager</td>\n",
       "      <td>127000</td>\n",
       "      <td>Redwood City, CA</td>\n",
       "      <td>1.5</td>\n",
       "      <td>1.5</td>\n",
       "      <td>NaN</td>\n",
       "      <td>107000.0</td>\n",
       "      <td>...</td>\n",
       "      <td>0</td>\n",
       "      <td>0</td>\n",
       "      <td>0</td>\n",
       "      <td>0</td>\n",
       "      <td>0</td>\n",
       "      <td>0</td>\n",
       "      <td>0</td>\n",
       "      <td>0</td>\n",
       "      <td>NaN</td>\n",
       "      <td>NaN</td>\n",
       "    </tr>\n",
       "    <tr>\n",
       "      <th>1</th>\n",
       "      <td>6/10/2017 17:11:29</td>\n",
       "      <td>eBay</td>\n",
       "      <td>SE 2</td>\n",
       "      <td>Software Engineer</td>\n",
       "      <td>100000</td>\n",
       "      <td>San Francisco, CA</td>\n",
       "      <td>5.0</td>\n",
       "      <td>3.0</td>\n",
       "      <td>NaN</td>\n",
       "      <td>0.0</td>\n",
       "      <td>...</td>\n",
       "      <td>0</td>\n",
       "      <td>0</td>\n",
       "      <td>0</td>\n",
       "      <td>0</td>\n",
       "      <td>0</td>\n",
       "      <td>0</td>\n",
       "      <td>0</td>\n",
       "      <td>0</td>\n",
       "      <td>NaN</td>\n",
       "      <td>NaN</td>\n",
       "    </tr>\n",
       "    <tr>\n",
       "      <th>2</th>\n",
       "      <td>6/11/2017 14:53:57</td>\n",
       "      <td>Amazon</td>\n",
       "      <td>L7</td>\n",
       "      <td>Product Manager</td>\n",
       "      <td>310000</td>\n",
       "      <td>Seattle, WA</td>\n",
       "      <td>8.0</td>\n",
       "      <td>0.0</td>\n",
       "      <td>NaN</td>\n",
       "      <td>155000.0</td>\n",
       "      <td>...</td>\n",
       "      <td>0</td>\n",
       "      <td>0</td>\n",
       "      <td>0</td>\n",
       "      <td>0</td>\n",
       "      <td>0</td>\n",
       "      <td>0</td>\n",
       "      <td>0</td>\n",
       "      <td>0</td>\n",
       "      <td>NaN</td>\n",
       "      <td>NaN</td>\n",
       "    </tr>\n",
       "    <tr>\n",
       "      <th>3</th>\n",
       "      <td>6/17/2017 0:23:14</td>\n",
       "      <td>Apple</td>\n",
       "      <td>M1</td>\n",
       "      <td>Software Engineering Manager</td>\n",
       "      <td>372000</td>\n",
       "      <td>Sunnyvale, CA</td>\n",
       "      <td>7.0</td>\n",
       "      <td>5.0</td>\n",
       "      <td>NaN</td>\n",
       "      <td>157000.0</td>\n",
       "      <td>...</td>\n",
       "      <td>0</td>\n",
       "      <td>0</td>\n",
       "      <td>0</td>\n",
       "      <td>0</td>\n",
       "      <td>0</td>\n",
       "      <td>0</td>\n",
       "      <td>0</td>\n",
       "      <td>0</td>\n",
       "      <td>NaN</td>\n",
       "      <td>NaN</td>\n",
       "    </tr>\n",
       "    <tr>\n",
       "      <th>4</th>\n",
       "      <td>6/20/2017 10:58:51</td>\n",
       "      <td>Microsoft</td>\n",
       "      <td>60</td>\n",
       "      <td>Software Engineer</td>\n",
       "      <td>157000</td>\n",
       "      <td>Mountain View, CA</td>\n",
       "      <td>5.0</td>\n",
       "      <td>3.0</td>\n",
       "      <td>NaN</td>\n",
       "      <td>0.0</td>\n",
       "      <td>...</td>\n",
       "      <td>0</td>\n",
       "      <td>0</td>\n",
       "      <td>0</td>\n",
       "      <td>0</td>\n",
       "      <td>0</td>\n",
       "      <td>0</td>\n",
       "      <td>0</td>\n",
       "      <td>0</td>\n",
       "      <td>NaN</td>\n",
       "      <td>NaN</td>\n",
       "    </tr>\n",
       "  </tbody>\n",
       "</table>\n",
       "<p>5 rows × 29 columns</p>\n",
       "</div>"
      ],
      "text/plain": [
       "            timestamp    company level                         title  \\\n",
       "0   6/7/2017 11:33:27     Oracle    L3               Product Manager   \n",
       "1  6/10/2017 17:11:29       eBay  SE 2             Software Engineer   \n",
       "2  6/11/2017 14:53:57     Amazon    L7               Product Manager   \n",
       "3   6/17/2017 0:23:14      Apple    M1  Software Engineering Manager   \n",
       "4  6/20/2017 10:58:51  Microsoft    60             Software Engineer   \n",
       "\n",
       "   totalyearlycompensation           location  yearsofexperience  \\\n",
       "0                   127000   Redwood City, CA                1.5   \n",
       "1                   100000  San Francisco, CA                5.0   \n",
       "2                   310000        Seattle, WA                8.0   \n",
       "3                   372000      Sunnyvale, CA                7.0   \n",
       "4                   157000  Mountain View, CA                5.0   \n",
       "\n",
       "   yearsatcompany  tag  basesalary  ...  Doctorate_Degree  Highschool  \\\n",
       "0             1.5  NaN    107000.0  ...                 0           0   \n",
       "1             3.0  NaN         0.0  ...                 0           0   \n",
       "2             0.0  NaN    155000.0  ...                 0           0   \n",
       "3             5.0  NaN    157000.0  ...                 0           0   \n",
       "4             3.0  NaN         0.0  ...                 0           0   \n",
       "\n",
       "  Some_College Race_Asian  Race_White  Race_Two_Or_More  Race_Black  \\\n",
       "0            0          0           0                 0           0   \n",
       "1            0          0           0                 0           0   \n",
       "2            0          0           0                 0           0   \n",
       "3            0          0           0                 0           0   \n",
       "4            0          0           0                 0           0   \n",
       "\n",
       "   Race_Hispanic  Race  Education  \n",
       "0              0   NaN        NaN  \n",
       "1              0   NaN        NaN  \n",
       "2              0   NaN        NaN  \n",
       "3              0   NaN        NaN  \n",
       "4              0   NaN        NaN  \n",
       "\n",
       "[5 rows x 29 columns]"
      ]
     },
     "execution_count": 3,
     "metadata": {},
     "output_type": "execute_result"
    }
   ],
   "source": [
    "df.head()"
   ]
  },
  {
   "cell_type": "code",
   "execution_count": 4,
   "id": "e3117fbf",
   "metadata": {},
   "outputs": [
    {
     "data": {
      "text/plain": [
       "(62642, 29)"
      ]
     },
     "execution_count": 4,
     "metadata": {},
     "output_type": "execute_result"
    }
   ],
   "source": [
    "df.shape"
   ]
  },
  {
   "cell_type": "code",
   "execution_count": 5,
   "id": "d430c273",
   "metadata": {},
   "outputs": [
    {
     "name": "stdout",
     "output_type": "stream",
     "text": [
      "Index(['timestamp', 'company', 'level', 'title', 'totalyearlycompensation',\n",
      "       'location', 'yearsofexperience', 'yearsatcompany', 'tag', 'basesalary',\n",
      "       'stockgrantvalue', 'bonus', 'gender', 'otherdetails', 'cityid', 'dmaid',\n",
      "       'rowNumber', 'Masters_Degree', 'Bachelors_Degree', 'Doctorate_Degree',\n",
      "       'Highschool', 'Some_College', 'Race_Asian', 'Race_White',\n",
      "       'Race_Two_Or_More', 'Race_Black', 'Race_Hispanic', 'Race', 'Education'],\n",
      "      dtype='object')\n"
     ]
    }
   ],
   "source": [
    "print(df.columns)"
   ]
  },
  {
   "cell_type": "code",
   "execution_count": 6,
   "id": "b8f6c495",
   "metadata": {},
   "outputs": [],
   "source": [
    "salary_df = df[['company','title','totalyearlycompensation','location','yearsofexperience','yearsatcompany','basesalary','Education']]"
   ]
  },
  {
   "cell_type": "code",
   "execution_count": 7,
   "id": "7a70dff8",
   "metadata": {},
   "outputs": [
    {
     "data": {
      "text/html": [
       "<div>\n",
       "<style scoped>\n",
       "    .dataframe tbody tr th:only-of-type {\n",
       "        vertical-align: middle;\n",
       "    }\n",
       "\n",
       "    .dataframe tbody tr th {\n",
       "        vertical-align: top;\n",
       "    }\n",
       "\n",
       "    .dataframe thead th {\n",
       "        text-align: right;\n",
       "    }\n",
       "</style>\n",
       "<table border=\"1\" class=\"dataframe\">\n",
       "  <thead>\n",
       "    <tr style=\"text-align: right;\">\n",
       "      <th></th>\n",
       "      <th>company</th>\n",
       "      <th>title</th>\n",
       "      <th>totalyearlycompensation</th>\n",
       "      <th>location</th>\n",
       "      <th>yearsofexperience</th>\n",
       "      <th>yearsatcompany</th>\n",
       "      <th>basesalary</th>\n",
       "      <th>Education</th>\n",
       "    </tr>\n",
       "  </thead>\n",
       "  <tbody>\n",
       "    <tr>\n",
       "      <th>0</th>\n",
       "      <td>Oracle</td>\n",
       "      <td>Product Manager</td>\n",
       "      <td>127000</td>\n",
       "      <td>Redwood City, CA</td>\n",
       "      <td>1.5</td>\n",
       "      <td>1.5</td>\n",
       "      <td>107000.0</td>\n",
       "      <td>NaN</td>\n",
       "    </tr>\n",
       "    <tr>\n",
       "      <th>1</th>\n",
       "      <td>eBay</td>\n",
       "      <td>Software Engineer</td>\n",
       "      <td>100000</td>\n",
       "      <td>San Francisco, CA</td>\n",
       "      <td>5.0</td>\n",
       "      <td>3.0</td>\n",
       "      <td>0.0</td>\n",
       "      <td>NaN</td>\n",
       "    </tr>\n",
       "    <tr>\n",
       "      <th>2</th>\n",
       "      <td>Amazon</td>\n",
       "      <td>Product Manager</td>\n",
       "      <td>310000</td>\n",
       "      <td>Seattle, WA</td>\n",
       "      <td>8.0</td>\n",
       "      <td>0.0</td>\n",
       "      <td>155000.0</td>\n",
       "      <td>NaN</td>\n",
       "    </tr>\n",
       "    <tr>\n",
       "      <th>3</th>\n",
       "      <td>Apple</td>\n",
       "      <td>Software Engineering Manager</td>\n",
       "      <td>372000</td>\n",
       "      <td>Sunnyvale, CA</td>\n",
       "      <td>7.0</td>\n",
       "      <td>5.0</td>\n",
       "      <td>157000.0</td>\n",
       "      <td>NaN</td>\n",
       "    </tr>\n",
       "    <tr>\n",
       "      <th>4</th>\n",
       "      <td>Microsoft</td>\n",
       "      <td>Software Engineer</td>\n",
       "      <td>157000</td>\n",
       "      <td>Mountain View, CA</td>\n",
       "      <td>5.0</td>\n",
       "      <td>3.0</td>\n",
       "      <td>0.0</td>\n",
       "      <td>NaN</td>\n",
       "    </tr>\n",
       "  </tbody>\n",
       "</table>\n",
       "</div>"
      ],
      "text/plain": [
       "     company                         title  totalyearlycompensation  \\\n",
       "0     Oracle               Product Manager                   127000   \n",
       "1       eBay             Software Engineer                   100000   \n",
       "2     Amazon               Product Manager                   310000   \n",
       "3      Apple  Software Engineering Manager                   372000   \n",
       "4  Microsoft             Software Engineer                   157000   \n",
       "\n",
       "            location  yearsofexperience  yearsatcompany  basesalary Education  \n",
       "0   Redwood City, CA                1.5             1.5    107000.0       NaN  \n",
       "1  San Francisco, CA                5.0             3.0         0.0       NaN  \n",
       "2        Seattle, WA                8.0             0.0    155000.0       NaN  \n",
       "3      Sunnyvale, CA                7.0             5.0    157000.0       NaN  \n",
       "4  Mountain View, CA                5.0             3.0         0.0       NaN  "
      ]
     },
     "execution_count": 7,
     "metadata": {},
     "output_type": "execute_result"
    }
   ],
   "source": [
    "salary_df.head()"
   ]
  },
  {
   "cell_type": "code",
   "execution_count": 8,
   "id": "db42ec4d",
   "metadata": {},
   "outputs": [],
   "source": [
    "#add the totalyearlycompensation together with the base salary\n",
    "\n",
    "total_salary= salary_df['totalyearlycompensation'] +salary_df['basesalary']\n",
    "salary_df[\"total_salary\"] = total_salary"
   ]
  },
  {
   "cell_type": "code",
   "execution_count": 9,
   "id": "2b64bc61",
   "metadata": {},
   "outputs": [
    {
     "data": {
      "text/html": [
       "<div>\n",
       "<style scoped>\n",
       "    .dataframe tbody tr th:only-of-type {\n",
       "        vertical-align: middle;\n",
       "    }\n",
       "\n",
       "    .dataframe tbody tr th {\n",
       "        vertical-align: top;\n",
       "    }\n",
       "\n",
       "    .dataframe thead th {\n",
       "        text-align: right;\n",
       "    }\n",
       "</style>\n",
       "<table border=\"1\" class=\"dataframe\">\n",
       "  <thead>\n",
       "    <tr style=\"text-align: right;\">\n",
       "      <th></th>\n",
       "      <th>company</th>\n",
       "      <th>title</th>\n",
       "      <th>totalyearlycompensation</th>\n",
       "      <th>location</th>\n",
       "      <th>yearsofexperience</th>\n",
       "      <th>yearsatcompany</th>\n",
       "      <th>basesalary</th>\n",
       "      <th>Education</th>\n",
       "      <th>total_salary</th>\n",
       "    </tr>\n",
       "  </thead>\n",
       "  <tbody>\n",
       "    <tr>\n",
       "      <th>0</th>\n",
       "      <td>Oracle</td>\n",
       "      <td>Product Manager</td>\n",
       "      <td>127000</td>\n",
       "      <td>Redwood City, CA</td>\n",
       "      <td>1.5</td>\n",
       "      <td>1.5</td>\n",
       "      <td>107000.0</td>\n",
       "      <td>NaN</td>\n",
       "      <td>234000.0</td>\n",
       "    </tr>\n",
       "    <tr>\n",
       "      <th>1</th>\n",
       "      <td>eBay</td>\n",
       "      <td>Software Engineer</td>\n",
       "      <td>100000</td>\n",
       "      <td>San Francisco, CA</td>\n",
       "      <td>5.0</td>\n",
       "      <td>3.0</td>\n",
       "      <td>0.0</td>\n",
       "      <td>NaN</td>\n",
       "      <td>100000.0</td>\n",
       "    </tr>\n",
       "    <tr>\n",
       "      <th>2</th>\n",
       "      <td>Amazon</td>\n",
       "      <td>Product Manager</td>\n",
       "      <td>310000</td>\n",
       "      <td>Seattle, WA</td>\n",
       "      <td>8.0</td>\n",
       "      <td>0.0</td>\n",
       "      <td>155000.0</td>\n",
       "      <td>NaN</td>\n",
       "      <td>465000.0</td>\n",
       "    </tr>\n",
       "    <tr>\n",
       "      <th>3</th>\n",
       "      <td>Apple</td>\n",
       "      <td>Software Engineering Manager</td>\n",
       "      <td>372000</td>\n",
       "      <td>Sunnyvale, CA</td>\n",
       "      <td>7.0</td>\n",
       "      <td>5.0</td>\n",
       "      <td>157000.0</td>\n",
       "      <td>NaN</td>\n",
       "      <td>529000.0</td>\n",
       "    </tr>\n",
       "    <tr>\n",
       "      <th>4</th>\n",
       "      <td>Microsoft</td>\n",
       "      <td>Software Engineer</td>\n",
       "      <td>157000</td>\n",
       "      <td>Mountain View, CA</td>\n",
       "      <td>5.0</td>\n",
       "      <td>3.0</td>\n",
       "      <td>0.0</td>\n",
       "      <td>NaN</td>\n",
       "      <td>157000.0</td>\n",
       "    </tr>\n",
       "  </tbody>\n",
       "</table>\n",
       "</div>"
      ],
      "text/plain": [
       "     company                         title  totalyearlycompensation  \\\n",
       "0     Oracle               Product Manager                   127000   \n",
       "1       eBay             Software Engineer                   100000   \n",
       "2     Amazon               Product Manager                   310000   \n",
       "3      Apple  Software Engineering Manager                   372000   \n",
       "4  Microsoft             Software Engineer                   157000   \n",
       "\n",
       "            location  yearsofexperience  yearsatcompany  basesalary Education  \\\n",
       "0   Redwood City, CA                1.5             1.5    107000.0       NaN   \n",
       "1  San Francisco, CA                5.0             3.0         0.0       NaN   \n",
       "2        Seattle, WA                8.0             0.0    155000.0       NaN   \n",
       "3      Sunnyvale, CA                7.0             5.0    157000.0       NaN   \n",
       "4  Mountain View, CA                5.0             3.0         0.0       NaN   \n",
       "\n",
       "   total_salary  \n",
       "0      234000.0  \n",
       "1      100000.0  \n",
       "2      465000.0  \n",
       "3      529000.0  \n",
       "4      157000.0  "
      ]
     },
     "execution_count": 9,
     "metadata": {},
     "output_type": "execute_result"
    }
   ],
   "source": [
    "salary_df.head()"
   ]
  },
  {
   "cell_type": "code",
   "execution_count": 10,
   "id": "d3845dbe",
   "metadata": {},
   "outputs": [],
   "source": [
    "#rename columns\n",
    "salary_df = salary_df.rename({'yearsofexperience': 'working_experience_years'}, axis=1)"
   ]
  },
  {
   "cell_type": "code",
   "execution_count": 11,
   "id": "88f69690",
   "metadata": {},
   "outputs": [
    {
     "data": {
      "text/html": [
       "<div>\n",
       "<style scoped>\n",
       "    .dataframe tbody tr th:only-of-type {\n",
       "        vertical-align: middle;\n",
       "    }\n",
       "\n",
       "    .dataframe tbody tr th {\n",
       "        vertical-align: top;\n",
       "    }\n",
       "\n",
       "    .dataframe thead th {\n",
       "        text-align: right;\n",
       "    }\n",
       "</style>\n",
       "<table border=\"1\" class=\"dataframe\">\n",
       "  <thead>\n",
       "    <tr style=\"text-align: right;\">\n",
       "      <th></th>\n",
       "      <th>company</th>\n",
       "      <th>title</th>\n",
       "      <th>totalyearlycompensation</th>\n",
       "      <th>location</th>\n",
       "      <th>working_experience_years</th>\n",
       "      <th>yearsatcompany</th>\n",
       "      <th>basesalary</th>\n",
       "      <th>Education</th>\n",
       "      <th>total_salary</th>\n",
       "    </tr>\n",
       "  </thead>\n",
       "  <tbody>\n",
       "    <tr>\n",
       "      <th>0</th>\n",
       "      <td>Oracle</td>\n",
       "      <td>Product Manager</td>\n",
       "      <td>127000</td>\n",
       "      <td>Redwood City, CA</td>\n",
       "      <td>1.5</td>\n",
       "      <td>1.5</td>\n",
       "      <td>107000.0</td>\n",
       "      <td>NaN</td>\n",
       "      <td>234000.0</td>\n",
       "    </tr>\n",
       "    <tr>\n",
       "      <th>1</th>\n",
       "      <td>eBay</td>\n",
       "      <td>Software Engineer</td>\n",
       "      <td>100000</td>\n",
       "      <td>San Francisco, CA</td>\n",
       "      <td>5.0</td>\n",
       "      <td>3.0</td>\n",
       "      <td>0.0</td>\n",
       "      <td>NaN</td>\n",
       "      <td>100000.0</td>\n",
       "    </tr>\n",
       "    <tr>\n",
       "      <th>2</th>\n",
       "      <td>Amazon</td>\n",
       "      <td>Product Manager</td>\n",
       "      <td>310000</td>\n",
       "      <td>Seattle, WA</td>\n",
       "      <td>8.0</td>\n",
       "      <td>0.0</td>\n",
       "      <td>155000.0</td>\n",
       "      <td>NaN</td>\n",
       "      <td>465000.0</td>\n",
       "    </tr>\n",
       "    <tr>\n",
       "      <th>3</th>\n",
       "      <td>Apple</td>\n",
       "      <td>Software Engineering Manager</td>\n",
       "      <td>372000</td>\n",
       "      <td>Sunnyvale, CA</td>\n",
       "      <td>7.0</td>\n",
       "      <td>5.0</td>\n",
       "      <td>157000.0</td>\n",
       "      <td>NaN</td>\n",
       "      <td>529000.0</td>\n",
       "    </tr>\n",
       "    <tr>\n",
       "      <th>4</th>\n",
       "      <td>Microsoft</td>\n",
       "      <td>Software Engineer</td>\n",
       "      <td>157000</td>\n",
       "      <td>Mountain View, CA</td>\n",
       "      <td>5.0</td>\n",
       "      <td>3.0</td>\n",
       "      <td>0.0</td>\n",
       "      <td>NaN</td>\n",
       "      <td>157000.0</td>\n",
       "    </tr>\n",
       "  </tbody>\n",
       "</table>\n",
       "</div>"
      ],
      "text/plain": [
       "     company                         title  totalyearlycompensation  \\\n",
       "0     Oracle               Product Manager                   127000   \n",
       "1       eBay             Software Engineer                   100000   \n",
       "2     Amazon               Product Manager                   310000   \n",
       "3      Apple  Software Engineering Manager                   372000   \n",
       "4  Microsoft             Software Engineer                   157000   \n",
       "\n",
       "            location  working_experience_years  yearsatcompany  basesalary  \\\n",
       "0   Redwood City, CA                       1.5             1.5    107000.0   \n",
       "1  San Francisco, CA                       5.0             3.0         0.0   \n",
       "2        Seattle, WA                       8.0             0.0    155000.0   \n",
       "3      Sunnyvale, CA                       7.0             5.0    157000.0   \n",
       "4  Mountain View, CA                       5.0             3.0         0.0   \n",
       "\n",
       "  Education  total_salary  \n",
       "0       NaN      234000.0  \n",
       "1       NaN      100000.0  \n",
       "2       NaN      465000.0  \n",
       "3       NaN      529000.0  \n",
       "4       NaN      157000.0  "
      ]
     },
     "execution_count": 11,
     "metadata": {},
     "output_type": "execute_result"
    }
   ],
   "source": [
    "salary_df.head()"
   ]
  },
  {
   "cell_type": "code",
   "execution_count": 12,
   "id": "9eda7a2a",
   "metadata": {},
   "outputs": [
    {
     "data": {
      "text/html": [
       "<div>\n",
       "<style scoped>\n",
       "    .dataframe tbody tr th:only-of-type {\n",
       "        vertical-align: middle;\n",
       "    }\n",
       "\n",
       "    .dataframe tbody tr th {\n",
       "        vertical-align: top;\n",
       "    }\n",
       "\n",
       "    .dataframe thead th {\n",
       "        text-align: right;\n",
       "    }\n",
       "</style>\n",
       "<table border=\"1\" class=\"dataframe\">\n",
       "  <thead>\n",
       "    <tr style=\"text-align: right;\">\n",
       "      <th></th>\n",
       "      <th>company</th>\n",
       "      <th>title</th>\n",
       "      <th>location</th>\n",
       "      <th>working_experience_years</th>\n",
       "      <th>yearsatcompany</th>\n",
       "      <th>Education</th>\n",
       "      <th>total_salary</th>\n",
       "    </tr>\n",
       "  </thead>\n",
       "  <tbody>\n",
       "    <tr>\n",
       "      <th>0</th>\n",
       "      <td>Oracle</td>\n",
       "      <td>Product Manager</td>\n",
       "      <td>Redwood City, CA</td>\n",
       "      <td>1.5</td>\n",
       "      <td>1.5</td>\n",
       "      <td>NaN</td>\n",
       "      <td>234000.0</td>\n",
       "    </tr>\n",
       "    <tr>\n",
       "      <th>1</th>\n",
       "      <td>eBay</td>\n",
       "      <td>Software Engineer</td>\n",
       "      <td>San Francisco, CA</td>\n",
       "      <td>5.0</td>\n",
       "      <td>3.0</td>\n",
       "      <td>NaN</td>\n",
       "      <td>100000.0</td>\n",
       "    </tr>\n",
       "    <tr>\n",
       "      <th>2</th>\n",
       "      <td>Amazon</td>\n",
       "      <td>Product Manager</td>\n",
       "      <td>Seattle, WA</td>\n",
       "      <td>8.0</td>\n",
       "      <td>0.0</td>\n",
       "      <td>NaN</td>\n",
       "      <td>465000.0</td>\n",
       "    </tr>\n",
       "    <tr>\n",
       "      <th>3</th>\n",
       "      <td>Apple</td>\n",
       "      <td>Software Engineering Manager</td>\n",
       "      <td>Sunnyvale, CA</td>\n",
       "      <td>7.0</td>\n",
       "      <td>5.0</td>\n",
       "      <td>NaN</td>\n",
       "      <td>529000.0</td>\n",
       "    </tr>\n",
       "    <tr>\n",
       "      <th>4</th>\n",
       "      <td>Microsoft</td>\n",
       "      <td>Software Engineer</td>\n",
       "      <td>Mountain View, CA</td>\n",
       "      <td>5.0</td>\n",
       "      <td>3.0</td>\n",
       "      <td>NaN</td>\n",
       "      <td>157000.0</td>\n",
       "    </tr>\n",
       "    <tr>\n",
       "      <th>...</th>\n",
       "      <td>...</td>\n",
       "      <td>...</td>\n",
       "      <td>...</td>\n",
       "      <td>...</td>\n",
       "      <td>...</td>\n",
       "      <td>...</td>\n",
       "      <td>...</td>\n",
       "    </tr>\n",
       "    <tr>\n",
       "      <th>62637</th>\n",
       "      <td>Google</td>\n",
       "      <td>Software Engineer</td>\n",
       "      <td>Seattle, WA</td>\n",
       "      <td>10.0</td>\n",
       "      <td>1.0</td>\n",
       "      <td>NaN</td>\n",
       "      <td>482000.0</td>\n",
       "    </tr>\n",
       "    <tr>\n",
       "      <th>62638</th>\n",
       "      <td>Microsoft</td>\n",
       "      <td>Software Engineer</td>\n",
       "      <td>Redmond, WA</td>\n",
       "      <td>2.0</td>\n",
       "      <td>2.0</td>\n",
       "      <td>NaN</td>\n",
       "      <td>383900.0</td>\n",
       "    </tr>\n",
       "    <tr>\n",
       "      <th>62639</th>\n",
       "      <td>MSFT</td>\n",
       "      <td>Software Engineer</td>\n",
       "      <td>Seattle, WA</td>\n",
       "      <td>14.0</td>\n",
       "      <td>12.0</td>\n",
       "      <td>NaN</td>\n",
       "      <td>377000.0</td>\n",
       "    </tr>\n",
       "    <tr>\n",
       "      <th>62640</th>\n",
       "      <td>Salesforce</td>\n",
       "      <td>Software Engineer</td>\n",
       "      <td>San Francisco, CA</td>\n",
       "      <td>8.0</td>\n",
       "      <td>4.0</td>\n",
       "      <td>NaN</td>\n",
       "      <td>474688.0</td>\n",
       "    </tr>\n",
       "    <tr>\n",
       "      <th>62641</th>\n",
       "      <td>apple</td>\n",
       "      <td>Software Engineer</td>\n",
       "      <td>Sunnyvale, CA</td>\n",
       "      <td>0.0</td>\n",
       "      <td>0.0</td>\n",
       "      <td>NaN</td>\n",
       "      <td>355000.0</td>\n",
       "    </tr>\n",
       "  </tbody>\n",
       "</table>\n",
       "<p>62642 rows × 7 columns</p>\n",
       "</div>"
      ],
      "text/plain": [
       "          company                         title           location  \\\n",
       "0          Oracle               Product Manager   Redwood City, CA   \n",
       "1            eBay             Software Engineer  San Francisco, CA   \n",
       "2          Amazon               Product Manager        Seattle, WA   \n",
       "3           Apple  Software Engineering Manager      Sunnyvale, CA   \n",
       "4       Microsoft             Software Engineer  Mountain View, CA   \n",
       "...           ...                           ...                ...   \n",
       "62637      Google             Software Engineer        Seattle, WA   \n",
       "62638   Microsoft             Software Engineer        Redmond, WA   \n",
       "62639        MSFT             Software Engineer        Seattle, WA   \n",
       "62640  Salesforce             Software Engineer  San Francisco, CA   \n",
       "62641       apple             Software Engineer      Sunnyvale, CA   \n",
       "\n",
       "       working_experience_years  yearsatcompany Education  total_salary  \n",
       "0                           1.5             1.5       NaN      234000.0  \n",
       "1                           5.0             3.0       NaN      100000.0  \n",
       "2                           8.0             0.0       NaN      465000.0  \n",
       "3                           7.0             5.0       NaN      529000.0  \n",
       "4                           5.0             3.0       NaN      157000.0  \n",
       "...                         ...             ...       ...           ...  \n",
       "62637                      10.0             1.0       NaN      482000.0  \n",
       "62638                       2.0             2.0       NaN      383900.0  \n",
       "62639                      14.0            12.0       NaN      377000.0  \n",
       "62640                       8.0             4.0       NaN      474688.0  \n",
       "62641                       0.0             0.0       NaN      355000.0  \n",
       "\n",
       "[62642 rows x 7 columns]"
      ]
     },
     "execution_count": 12,
     "metadata": {},
     "output_type": "execute_result"
    }
   ],
   "source": [
    "salary_df1 = salary_df.copy()\n",
    "salary_df1.drop(['totalyearlycompensation','basesalary'],axis=1, inplace=True)\n",
    "salary_df1"
   ]
  },
  {
   "cell_type": "code",
   "execution_count": 13,
   "id": "e33f47f8",
   "metadata": {},
   "outputs": [
    {
     "name": "stdout",
     "output_type": "stream",
     "text": [
      "<class 'pandas.core.frame.DataFrame'>\n",
      "RangeIndex: 62642 entries, 0 to 62641\n",
      "Data columns (total 7 columns):\n",
      " #   Column                    Non-Null Count  Dtype  \n",
      "---  ------                    --------------  -----  \n",
      " 0   company                   62637 non-null  object \n",
      " 1   title                     62642 non-null  object \n",
      " 2   location                  62642 non-null  object \n",
      " 3   working_experience_years  62642 non-null  float64\n",
      " 4   yearsatcompany            62642 non-null  float64\n",
      " 5   Education                 30370 non-null  object \n",
      " 6   total_salary              62642 non-null  float64\n",
      "dtypes: float64(3), object(4)\n",
      "memory usage: 3.3+ MB\n"
     ]
    }
   ],
   "source": [
    "salary_df1.info()"
   ]
  },
  {
   "cell_type": "code",
   "execution_count": 14,
   "id": "a460b160",
   "metadata": {},
   "outputs": [
    {
     "data": {
      "text/plain": [
       "company                         5\n",
       "title                           0\n",
       "location                        0\n",
       "working_experience_years        0\n",
       "yearsatcompany                  0\n",
       "Education                   32272\n",
       "total_salary                    0\n",
       "dtype: int64"
      ]
     },
     "execution_count": 14,
     "metadata": {},
     "output_type": "execute_result"
    }
   ],
   "source": [
    "#drop null values \n",
    "\n",
    "salary_missing = salary_df1.isna()\n",
    "salary_missing.sum()\n"
   ]
  },
  {
   "cell_type": "code",
   "execution_count": 15,
   "id": "b1499c2e",
   "metadata": {},
   "outputs": [
    {
     "data": {
      "text/html": [
       "<div>\n",
       "<style scoped>\n",
       "    .dataframe tbody tr th:only-of-type {\n",
       "        vertical-align: middle;\n",
       "    }\n",
       "\n",
       "    .dataframe tbody tr th {\n",
       "        vertical-align: top;\n",
       "    }\n",
       "\n",
       "    .dataframe thead th {\n",
       "        text-align: right;\n",
       "    }\n",
       "</style>\n",
       "<table border=\"1\" class=\"dataframe\">\n",
       "  <thead>\n",
       "    <tr style=\"text-align: right;\">\n",
       "      <th></th>\n",
       "      <th>company</th>\n",
       "      <th>title</th>\n",
       "      <th>location</th>\n",
       "      <th>working_experience_years</th>\n",
       "      <th>yearsatcompany</th>\n",
       "      <th>Education</th>\n",
       "      <th>total_salary</th>\n",
       "    </tr>\n",
       "  </thead>\n",
       "  <tbody>\n",
       "    <tr>\n",
       "      <th>46</th>\n",
       "      <td>Salesforce</td>\n",
       "      <td>Software Engineer</td>\n",
       "      <td>San Francisco, CA</td>\n",
       "      <td>4.0</td>\n",
       "      <td>1.0</td>\n",
       "      <td>PhD</td>\n",
       "      <td>530000.0</td>\n",
       "    </tr>\n",
       "    <tr>\n",
       "      <th>717</th>\n",
       "      <td>Facebook</td>\n",
       "      <td>Software Engineer</td>\n",
       "      <td>Menlo Park, CA</td>\n",
       "      <td>4.0</td>\n",
       "      <td>0.0</td>\n",
       "      <td>PhD</td>\n",
       "      <td>379000.0</td>\n",
       "    </tr>\n",
       "    <tr>\n",
       "      <th>3427</th>\n",
       "      <td>Capital One</td>\n",
       "      <td>Data Scientist</td>\n",
       "      <td>Washington, DC</td>\n",
       "      <td>1.0</td>\n",
       "      <td>0.0</td>\n",
       "      <td>PhD</td>\n",
       "      <td>246000.0</td>\n",
       "    </tr>\n",
       "    <tr>\n",
       "      <th>5037</th>\n",
       "      <td>Bloomberg</td>\n",
       "      <td>Software Engineer</td>\n",
       "      <td>New York, NY</td>\n",
       "      <td>0.0</td>\n",
       "      <td>0.0</td>\n",
       "      <td>Master's Degree</td>\n",
       "      <td>312000.0</td>\n",
       "    </tr>\n",
       "    <tr>\n",
       "      <th>5392</th>\n",
       "      <td>Amazon</td>\n",
       "      <td>Data Scientist</td>\n",
       "      <td>Palo Alto, CA</td>\n",
       "      <td>1.0</td>\n",
       "      <td>0.0</td>\n",
       "      <td>PhD</td>\n",
       "      <td>517000.0</td>\n",
       "    </tr>\n",
       "  </tbody>\n",
       "</table>\n",
       "</div>"
      ],
      "text/plain": [
       "          company              title           location  \\\n",
       "46     Salesforce  Software Engineer  San Francisco, CA   \n",
       "717      Facebook  Software Engineer     Menlo Park, CA   \n",
       "3427  Capital One     Data Scientist     Washington, DC   \n",
       "5037    Bloomberg  Software Engineer       New York, NY   \n",
       "5392       Amazon     Data Scientist      Palo Alto, CA   \n",
       "\n",
       "      working_experience_years  yearsatcompany        Education  total_salary  \n",
       "46                         4.0             1.0              PhD      530000.0  \n",
       "717                        4.0             0.0              PhD      379000.0  \n",
       "3427                       1.0             0.0              PhD      246000.0  \n",
       "5037                       0.0             0.0  Master's Degree      312000.0  \n",
       "5392                       1.0             0.0              PhD      517000.0  "
      ]
     },
     "execution_count": 15,
     "metadata": {},
     "output_type": "execute_result"
    }
   ],
   "source": [
    "salary_new1 = salary_df1.dropna(how = 'any')\n",
    "salary_new1.shape\n",
    "salary_new1.head()"
   ]
  },
  {
   "cell_type": "code",
   "execution_count": 16,
   "id": "696fd18f",
   "metadata": {},
   "outputs": [
    {
     "data": {
      "text/plain": [
       "Seattle, WA                  3676\n",
       "San Francisco, CA            2682\n",
       "New York, NY                 2167\n",
       "Redmond, WA                  1105\n",
       "San Jose, CA                 1031\n",
       "                             ... \n",
       "Florianopolis, SC, Brazil       1\n",
       "Fulton, MD                      1\n",
       "Moscow Mills, MO                1\n",
       "Louisville, CO                  1\n",
       "Pasir Ris, SG, Singapore        1\n",
       "Name: location, Length: 843, dtype: int64"
      ]
     },
     "execution_count": 16,
     "metadata": {},
     "output_type": "execute_result"
    }
   ],
   "source": [
    "#clean location \n",
    "salary_new1['location'].value_counts()\n"
   ]
  },
  {
   "cell_type": "code",
   "execution_count": 17,
   "id": "4b5ba240",
   "metadata": {},
   "outputs": [],
   "source": [
    "df_salary =salary_new1.copy()"
   ]
  },
  {
   "cell_type": "code",
   "execution_count": 18,
   "id": "4bc616db",
   "metadata": {},
   "outputs": [],
   "source": [
    "def shorten_categories (categories, cutoff):\n",
    "    categorical_map = {}\n",
    "    for i in range(len(categories)):\n",
    "        if categories.values[i] >= cutoff:\n",
    "            categorical_map[categories.index[i]] = categories.index[i]\n",
    "        else:\n",
    "            categorical_map[categories.index[i]] ='other'\n",
    "    return categorical_map"
   ]
  },
  {
   "cell_type": "code",
   "execution_count": 19,
   "id": "3a08e616",
   "metadata": {},
   "outputs": [
    {
     "data": {
      "text/plain": [
       "other                         11746\n",
       "Seattle, WA                    3676\n",
       "San Francisco, CA              2682\n",
       "New York, NY                   2167\n",
       "Redmond, WA                    1105\n",
       "San Jose, CA                   1031\n",
       "Mountain View, CA               974\n",
       "Sunnyvale, CA                   970\n",
       "Austin, TX                      833\n",
       "Bangalore, KA, India            775\n",
       "Menlo Park, CA                  655\n",
       "Cupertino, CA                   642\n",
       "Santa Clara, CA                 612\n",
       "London, EN, United Kingdom      606\n",
       "Boston, MA                      560\n",
       "Palo Alto, CA                   512\n",
       "Toronto, ON, Canada             412\n",
       "Chicago, IL                     410\n",
       "Name: Location, dtype: int64"
      ]
     },
     "execution_count": 19,
     "metadata": {},
     "output_type": "execute_result"
    }
   ],
   "source": [
    "location_map = shorten_categories(df_salary.location.value_counts(),400 )\n",
    "df_salary['Location'] = df_salary['location'].map(location_map)\n",
    "df_salary.Location.value_counts()"
   ]
  },
  {
   "cell_type": "code",
   "execution_count": 20,
   "id": "02cb0e18",
   "metadata": {},
   "outputs": [
    {
     "data": {
      "text/plain": [
       "<function matplotlib.pyplot.show(close=None, block=None)>"
      ]
     },
     "execution_count": 20,
     "metadata": {},
     "output_type": "execute_result"
    },
    {
     "data": {
      "image/png": "[encoded data removed]",
      "text/plain": [
       "<Figure size 1224x504 with 1 Axes>"
      ]
     },
     "metadata": {
      "needs_background": "light"
     },
     "output_type": "display_data"
    }
   ],
   "source": [
    "#inspect for outliers\n",
    "fig, ax=plt.subplots(1,1,figsize=(17,7))\n",
    "df_salary.boxplot('total_salary','Location',ax=ax)\n",
    "plt.suptitle('Salary vs Location')\n",
    "plt.title('Chinaza')\n",
    "plt.ylabel('Salary')\n",
    "plt.xticks(rotation=90)\n",
    "plt.show"
   ]
  },
  {
   "cell_type": "code",
   "execution_count": 21,
   "id": "4748a5c5",
   "metadata": {},
   "outputs": [],
   "source": [
    "df_salary = df_salary[df_salary[\"total_salary\"] <= 1000000]\n",
    "df_salary= df_salary[df_salary[\"total_salary\"] >= 10000]\n",
    "df_salary = df_salary[df_salary['Location'] != 'other']"
   ]
  },
  {
   "cell_type": "code",
   "execution_count": 22,
   "id": "90786dd8",
   "metadata": {},
   "outputs": [
    {
     "data": {
      "text/plain": [
       "<function matplotlib.pyplot.show(close=None, block=None)>"
      ]
     },
     "execution_count": 22,
     "metadata": {},
     "output_type": "execute_result"
    },
    {
     "data": {
      "image/png": "[encoded data removed]",
      "text/plain": [
       "<Figure size 1224x504 with 1 Axes>"
      ]
     },
     "metadata": {
      "needs_background": "light"
     },
     "output_type": "display_data"
    }
   ],
   "source": [
    "fig, ax=plt.subplots(1,1,figsize=(17,7))\n",
    "df_salary.boxplot('total_salary','Location',ax=ax)\n",
    "plt.suptitle('Salary vs Location')\n",
    "plt.title('Chinaza')\n",
    "plt.ylabel('Salary')\n",
    "plt.xticks(rotation=90)\n",
    "plt.show"
   ]
  },
  {
   "cell_type": "code",
   "execution_count": 23,
   "id": "d59cd5b2",
   "metadata": {},
   "outputs": [
    {
     "data": {
      "text/plain": [
       "Amazon                            2763\n",
       "Microsoft                         1676\n",
       "Google                            1423\n",
       "Facebook                          1283\n",
       "Apple                              826\n",
       "                                  ... \n",
       "Genentech                            1\n",
       "Juniper                              1\n",
       "Moody's Analytics                    1\n",
       "Cognizant Technology Solutions       1\n",
       "Zeta                                 1\n",
       "Name: company, Length: 967, dtype: int64"
      ]
     },
     "execution_count": 23,
     "metadata": {},
     "output_type": "execute_result"
    }
   ],
   "source": [
    "#do the same for company column\n",
    "df_salary['company'].value_counts()"
   ]
  },
  {
   "cell_type": "code",
   "execution_count": 24,
   "id": "740ae264",
   "metadata": {},
   "outputs": [],
   "source": [
    "def shorten_categories (categories, cutoff):\n",
    "    categorical_map = {}\n",
    "    for i in range(len(categories)):\n",
    "        if categories.values[i] >= cutoff:\n",
    "            categorical_map[categories.index[i]] = categories.index[i]\n",
    "        else:\n",
    "            categorical_map[categories.index[i]] ='other'\n",
    "    return categorical_map"
   ]
  },
  {
   "cell_type": "code",
   "execution_count": 25,
   "id": "77d74024",
   "metadata": {},
   "outputs": [
    {
     "data": {
      "text/plain": [
       "other        10492\n",
       "Amazon        2763\n",
       "Microsoft     1676\n",
       "Google        1423\n",
       "Facebook      1283\n",
       "Apple          826\n",
       "Name: Company, dtype: int64"
      ]
     },
     "execution_count": 25,
     "metadata": {},
     "output_type": "execute_result"
    }
   ],
   "source": [
    "company_map = shorten_categories(df_salary.company.value_counts(),400 )\n",
    "df_salary['Company'] = df_salary['company'].map(company_map)\n",
    "df_salary.Company.value_counts()"
   ]
  },
  {
   "cell_type": "code",
   "execution_count": 26,
   "id": "86a58121",
   "metadata": {},
   "outputs": [
    {
     "data": {
      "text/plain": [
       "<function matplotlib.pyplot.show(close=None, block=None)>"
      ]
     },
     "execution_count": 26,
     "metadata": {},
     "output_type": "execute_result"
    },
    {
     "data": {
      "image/png": "[encoded data removed]",
      "text/plain": [
       "<Figure size 1224x504 with 1 Axes>"
      ]
     },
     "metadata": {
      "needs_background": "light"
     },
     "output_type": "display_data"
    }
   ],
   "source": [
    "#inspect for outliers\n",
    "fig, ax=plt.subplots(1,1,figsize=(17,7))\n",
    "df_salary.boxplot('total_salary','Company',ax=ax)\n",
    "plt.suptitle('Salary vs Company')\n",
    "plt.title('Chinaza')\n",
    "plt.ylabel('Salary')\n",
    "plt.xticks(rotation=90)\n",
    "plt.show"
   ]
  },
  {
   "cell_type": "code",
   "execution_count": 27,
   "id": "a2b98625",
   "metadata": {},
   "outputs": [],
   "source": [
    "\n",
    "df_salary = df_salary[df_salary[\"total_salary\"] <= 1000000]\n",
    "df_salary= df_salary[df_salary[\"total_salary\"] >= 40000]\n",
    "df_salary = df_salary[df_salary['Company'] != 'other']"
   ]
  },
  {
   "cell_type": "code",
   "execution_count": 28,
   "id": "923104ac",
   "metadata": {},
   "outputs": [
    {
     "data": {
      "text/plain": [
       "<function matplotlib.pyplot.show(close=None, block=None)>"
      ]
     },
     "execution_count": 28,
     "metadata": {},
     "output_type": "execute_result"
    },
    {
     "data": {
      "image/png": "[encoded data removed]",
      "text/plain": [
       "<Figure size 1224x504 with 1 Axes>"
      ]
     },
     "metadata": {
      "needs_background": "light"
     },
     "output_type": "display_data"
    }
   ],
   "source": [
    "fig, ax=plt.subplots(1,1,figsize=(17,7))\n",
    "df_salary.boxplot('total_salary','Company',ax=ax)\n",
    "plt.suptitle('Salary vs Location')\n",
    "plt.title('Chinaza')\n",
    "plt.ylabel('Salary')\n",
    "plt.xticks(rotation=90)\n",
    "plt.show"
   ]
  },
  {
   "cell_type": "code",
   "execution_count": 29,
   "id": "ab642ef7",
   "metadata": {},
   "outputs": [
    {
     "data": {
      "text/plain": [
       "array([ 4.,  1.,  3.,  0.,  5., 15.,  7.,  8.,  2.,  6., 10., 12., 20.,\n",
       "       14., 13., 27., 18., 21., 11., 25., 22., 16.,  9., 23., 19., 17.,\n",
       "       35., 26., 24., 30., 28., 40., 39., 36., 38., 33., 32.])"
      ]
     },
     "execution_count": 29,
     "metadata": {},
     "output_type": "execute_result"
    }
   ],
   "source": [
    "#clean working_experience_years column\n",
    "df_salary[\"working_experience_years\"].unique()"
   ]
  },
  {
   "cell_type": "markdown",
   "id": "e2fe5d37",
   "metadata": {},
   "source": [
    "This is already converted to float so it's clean"
   ]
  },
  {
   "cell_type": "code",
   "execution_count": 30,
   "id": "810ca0b8",
   "metadata": {},
   "outputs": [
    {
     "data": {
      "text/plain": [
       "array([ 0. ,  3. ,  1. ,  4. ,  2. , 12. ,  5. ,  8. ,  0.8,  6. , 11. ,\n",
       "       10. ,  7. ,  2.5,  3.5, 13. ,  0.3,  1.5,  2.7,  9. ,  0.5,  3.7,\n",
       "       15. , 14. ,  4.5,  0.6,  8.5,  2.3,  1.8, 17. , 21. , 22. , 24. ,\n",
       "       20. , 27. , 16. , 28. , 23. , 18. , 19. ])"
      ]
     },
     "execution_count": 30,
     "metadata": {},
     "output_type": "execute_result"
    }
   ],
   "source": [
    "#clean yearsatcompany column\n",
    "df_salary[\"yearsatcompany\"].unique()"
   ]
  },
  {
   "cell_type": "markdown",
   "id": "506b7cc9",
   "metadata": {},
   "source": [
    "Same applies to the 'yearsatcompany' column"
   ]
  },
  {
   "cell_type": "code",
   "execution_count": 31,
   "id": "656cbcee",
   "metadata": {},
   "outputs": [
    {
     "data": {
      "text/plain": [
       "array(['PhD', \"Master's Degree\", \"Bachelor's Degree\", 'Highschool',\n",
       "       'Some College'], dtype=object)"
      ]
     },
     "execution_count": 31,
     "metadata": {},
     "output_type": "execute_result"
    }
   ],
   "source": [
    "df_salary[\"Education\"].unique()"
   ]
  },
  {
   "cell_type": "code",
   "execution_count": 32,
   "id": "a7fffc01",
   "metadata": {},
   "outputs": [],
   "source": [
    "#clean the education column by grouping them accordingly using a function\n",
    "def clean_education (x):\n",
    "    if  \"Bachelor's Degree\" in x:\n",
    "        return  \"Bachelor's Degree\"\n",
    "    if \"Master's Degree\" in x:\n",
    "        return \"Master's Degree\"\n",
    "    if 'PhD'in x:\n",
    "        return 'PhD'\n",
    "    else:\n",
    "        return 'less than a Bachelors'\n",
    "        \n",
    "    \n",
    "df_salary['Education'] =df_salary['Education'].apply(clean_education)\n",
    "    \n",
    "    "
   ]
  },
  {
   "cell_type": "code",
   "execution_count": 33,
   "id": "6248b0b3",
   "metadata": {},
   "outputs": [
    {
     "data": {
      "text/plain": [
       "array(['PhD', \"Master's Degree\", \"Bachelor's Degree\",\n",
       "       'less than a Bachelors'], dtype=object)"
      ]
     },
     "execution_count": 33,
     "metadata": {},
     "output_type": "execute_result"
    }
   ],
   "source": [
    "df_salary['Education'].unique()"
   ]
  },
  {
   "cell_type": "code",
   "execution_count": 34,
   "id": "d4a9dc20",
   "metadata": {},
   "outputs": [
    {
     "data": {
      "text/plain": [
       "array([2, 1, 0, 3])"
      ]
     },
     "execution_count": 34,
     "metadata": {},
     "output_type": "execute_result"
    }
   ],
   "source": [
    "#encode the columns that are of object data types using the label encoder.columns are: Education,Location, Company and Title. \n",
    "from sklearn.preprocessing import LabelEncoder\n",
    "le_education = LabelEncoder()\n",
    "df_salary['Education'] = le_education.fit_transform(df_salary['Education'])\n",
    "df_salary['Education'].unique()\n"
   ]
  },
  {
   "cell_type": "code",
   "execution_count": 35,
   "id": "9327269d",
   "metadata": {},
   "outputs": [
    {
     "data": {
      "text/plain": [
       "array([ 6,  9,  4, 15, 11,  7, 14,  8, 10,  0, 13,  3,  2,  5,  1, 16, 12])"
      ]
     },
     "execution_count": 35,
     "metadata": {},
     "output_type": "execute_result"
    }
   ],
   "source": [
    "le_Location = LabelEncoder()\n",
    "df_salary['Location']= le_Location.fit_transform(df_salary['Location'])\n",
    "df_salary['Location'].unique()"
   ]
  },
  {
   "cell_type": "code",
   "execution_count": 36,
   "id": "651c09f0",
   "metadata": {},
   "outputs": [
    {
     "data": {
      "text/plain": [
       "array([2, 0, 1, 3, 4])"
      ]
     },
     "execution_count": 36,
     "metadata": {},
     "output_type": "execute_result"
    }
   ],
   "source": [
    "le_company = LabelEncoder()\n",
    "df_salary['Company'] = le_company.fit_transform(df_salary['Company'])\n",
    "df_salary['Company'].unique()"
   ]
  },
  {
   "cell_type": "code",
   "execution_count": 37,
   "id": "b4ba7d1f",
   "metadata": {},
   "outputs": [
    {
     "data": {
      "text/plain": [
       "array([11,  1,  2,  8, 12,  0,  7, 13, 10, 14,  6,  9,  5,  3,  4])"
      ]
     },
     "execution_count": 37,
     "metadata": {},
     "output_type": "execute_result"
    }
   ],
   "source": [
    "le_title = LabelEncoder()\n",
    "df_salary['title']= le_title.fit_transform(df_salary['title'])\n",
    "df_salary['title'].unique()"
   ]
  },
  {
   "cell_type": "code",
   "execution_count": 38,
   "id": "e6658f55",
   "metadata": {},
   "outputs": [
    {
     "data": {
      "text/html": [
       "<div>\n",
       "<style scoped>\n",
       "    .dataframe tbody tr th:only-of-type {\n",
       "        vertical-align: middle;\n",
       "    }\n",
       "\n",
       "    .dataframe tbody tr th {\n",
       "        vertical-align: top;\n",
       "    }\n",
       "\n",
       "    .dataframe thead th {\n",
       "        text-align: right;\n",
       "    }\n",
       "</style>\n",
       "<table border=\"1\" class=\"dataframe\">\n",
       "  <thead>\n",
       "    <tr style=\"text-align: right;\">\n",
       "      <th></th>\n",
       "      <th>company</th>\n",
       "      <th>title</th>\n",
       "      <th>location</th>\n",
       "      <th>working_experience_years</th>\n",
       "      <th>yearsatcompany</th>\n",
       "      <th>Education</th>\n",
       "      <th>total_salary</th>\n",
       "      <th>Location</th>\n",
       "      <th>Company</th>\n",
       "    </tr>\n",
       "  </thead>\n",
       "  <tbody>\n",
       "    <tr>\n",
       "      <th>717</th>\n",
       "      <td>Facebook</td>\n",
       "      <td>11</td>\n",
       "      <td>Menlo Park, CA</td>\n",
       "      <td>4.0</td>\n",
       "      <td>0.0</td>\n",
       "      <td>2</td>\n",
       "      <td>379000.0</td>\n",
       "      <td>6</td>\n",
       "      <td>2</td>\n",
       "    </tr>\n",
       "    <tr>\n",
       "      <th>5392</th>\n",
       "      <td>Amazon</td>\n",
       "      <td>1</td>\n",
       "      <td>Palo Alto, CA</td>\n",
       "      <td>1.0</td>\n",
       "      <td>0.0</td>\n",
       "      <td>2</td>\n",
       "      <td>517000.0</td>\n",
       "      <td>9</td>\n",
       "      <td>0</td>\n",
       "    </tr>\n",
       "    <tr>\n",
       "      <th>6055</th>\n",
       "      <td>Apple</td>\n",
       "      <td>11</td>\n",
       "      <td>Cupertino, CA</td>\n",
       "      <td>3.0</td>\n",
       "      <td>3.0</td>\n",
       "      <td>2</td>\n",
       "      <td>390000.0</td>\n",
       "      <td>4</td>\n",
       "      <td>1</td>\n",
       "    </tr>\n",
       "    <tr>\n",
       "      <th>7758</th>\n",
       "      <td>Google</td>\n",
       "      <td>11</td>\n",
       "      <td>Sunnyvale, CA</td>\n",
       "      <td>0.0</td>\n",
       "      <td>0.0</td>\n",
       "      <td>2</td>\n",
       "      <td>343000.0</td>\n",
       "      <td>15</td>\n",
       "      <td>3</td>\n",
       "    </tr>\n",
       "    <tr>\n",
       "      <th>7997</th>\n",
       "      <td>Apple</td>\n",
       "      <td>2</td>\n",
       "      <td>Cupertino, CA</td>\n",
       "      <td>1.0</td>\n",
       "      <td>1.0</td>\n",
       "      <td>2</td>\n",
       "      <td>322000.0</td>\n",
       "      <td>4</td>\n",
       "      <td>1</td>\n",
       "    </tr>\n",
       "  </tbody>\n",
       "</table>\n",
       "</div>"
      ],
      "text/plain": [
       "       company  title        location  working_experience_years  \\\n",
       "717   Facebook     11  Menlo Park, CA                       4.0   \n",
       "5392    Amazon      1   Palo Alto, CA                       1.0   \n",
       "6055     Apple     11   Cupertino, CA                       3.0   \n",
       "7758    Google     11   Sunnyvale, CA                       0.0   \n",
       "7997     Apple      2   Cupertino, CA                       1.0   \n",
       "\n",
       "      yearsatcompany  Education  total_salary  Location  Company  \n",
       "717              0.0          2      379000.0         6        2  \n",
       "5392             0.0          2      517000.0         9        0  \n",
       "6055             3.0          2      390000.0         4        1  \n",
       "7758             0.0          2      343000.0        15        3  \n",
       "7997             1.0          2      322000.0         4        1  "
      ]
     },
     "execution_count": 38,
     "metadata": {},
     "output_type": "execute_result"
    }
   ],
   "source": [
    "df_salary.head()"
   ]
  },
  {
   "cell_type": "code",
   "execution_count": 39,
   "id": "2f889fa1",
   "metadata": {},
   "outputs": [],
   "source": [
    "df_salary2 = df_salary.copy()"
   ]
  },
  {
   "cell_type": "code",
   "execution_count": 40,
   "id": "6a341ab3",
   "metadata": {},
   "outputs": [
    {
     "data": {
      "text/html": [
       "<div>\n",
       "<style scoped>\n",
       "    .dataframe tbody tr th:only-of-type {\n",
       "        vertical-align: middle;\n",
       "    }\n",
       "\n",
       "    .dataframe tbody tr th {\n",
       "        vertical-align: top;\n",
       "    }\n",
       "\n",
       "    .dataframe thead th {\n",
       "        text-align: right;\n",
       "    }\n",
       "</style>\n",
       "<table border=\"1\" class=\"dataframe\">\n",
       "  <thead>\n",
       "    <tr style=\"text-align: right;\">\n",
       "      <th></th>\n",
       "      <th>title</th>\n",
       "      <th>working_experience_years</th>\n",
       "      <th>yearsatcompany</th>\n",
       "      <th>Education</th>\n",
       "      <th>total_salary</th>\n",
       "      <th>Location</th>\n",
       "      <th>Company</th>\n",
       "    </tr>\n",
       "  </thead>\n",
       "  <tbody>\n",
       "    <tr>\n",
       "      <th>717</th>\n",
       "      <td>11</td>\n",
       "      <td>4.0</td>\n",
       "      <td>0.0</td>\n",
       "      <td>2</td>\n",
       "      <td>379000.0</td>\n",
       "      <td>6</td>\n",
       "      <td>2</td>\n",
       "    </tr>\n",
       "    <tr>\n",
       "      <th>5392</th>\n",
       "      <td>1</td>\n",
       "      <td>1.0</td>\n",
       "      <td>0.0</td>\n",
       "      <td>2</td>\n",
       "      <td>517000.0</td>\n",
       "      <td>9</td>\n",
       "      <td>0</td>\n",
       "    </tr>\n",
       "    <tr>\n",
       "      <th>6055</th>\n",
       "      <td>11</td>\n",
       "      <td>3.0</td>\n",
       "      <td>3.0</td>\n",
       "      <td>2</td>\n",
       "      <td>390000.0</td>\n",
       "      <td>4</td>\n",
       "      <td>1</td>\n",
       "    </tr>\n",
       "    <tr>\n",
       "      <th>7758</th>\n",
       "      <td>11</td>\n",
       "      <td>0.0</td>\n",
       "      <td>0.0</td>\n",
       "      <td>2</td>\n",
       "      <td>343000.0</td>\n",
       "      <td>15</td>\n",
       "      <td>3</td>\n",
       "    </tr>\n",
       "    <tr>\n",
       "      <th>7997</th>\n",
       "      <td>2</td>\n",
       "      <td>1.0</td>\n",
       "      <td>1.0</td>\n",
       "      <td>2</td>\n",
       "      <td>322000.0</td>\n",
       "      <td>4</td>\n",
       "      <td>1</td>\n",
       "    </tr>\n",
       "    <tr>\n",
       "      <th>...</th>\n",
       "      <td>...</td>\n",
       "      <td>...</td>\n",
       "      <td>...</td>\n",
       "      <td>...</td>\n",
       "      <td>...</td>\n",
       "      <td>...</td>\n",
       "      <td>...</td>\n",
       "    </tr>\n",
       "    <tr>\n",
       "      <th>61809</th>\n",
       "      <td>11</td>\n",
       "      <td>3.0</td>\n",
       "      <td>0.0</td>\n",
       "      <td>1</td>\n",
       "      <td>487000.0</td>\n",
       "      <td>15</td>\n",
       "      <td>0</td>\n",
       "    </tr>\n",
       "    <tr>\n",
       "      <th>61810</th>\n",
       "      <td>11</td>\n",
       "      <td>0.0</td>\n",
       "      <td>0.0</td>\n",
       "      <td>1</td>\n",
       "      <td>277000.0</td>\n",
       "      <td>14</td>\n",
       "      <td>0</td>\n",
       "    </tr>\n",
       "    <tr>\n",
       "      <th>61811</th>\n",
       "      <td>11</td>\n",
       "      <td>1.0</td>\n",
       "      <td>1.0</td>\n",
       "      <td>0</td>\n",
       "      <td>302000.0</td>\n",
       "      <td>10</td>\n",
       "      <td>4</td>\n",
       "    </tr>\n",
       "    <tr>\n",
       "      <th>61815</th>\n",
       "      <td>11</td>\n",
       "      <td>4.0</td>\n",
       "      <td>2.0</td>\n",
       "      <td>1</td>\n",
       "      <td>341000.0</td>\n",
       "      <td>10</td>\n",
       "      <td>4</td>\n",
       "    </tr>\n",
       "    <tr>\n",
       "      <th>61830</th>\n",
       "      <td>8</td>\n",
       "      <td>9.0</td>\n",
       "      <td>0.0</td>\n",
       "      <td>0</td>\n",
       "      <td>391000.0</td>\n",
       "      <td>14</td>\n",
       "      <td>0</td>\n",
       "    </tr>\n",
       "  </tbody>\n",
       "</table>\n",
       "<p>7968 rows × 7 columns</p>\n",
       "</div>"
      ],
      "text/plain": [
       "       title  working_experience_years  yearsatcompany  Education  \\\n",
       "717       11                       4.0             0.0          2   \n",
       "5392       1                       1.0             0.0          2   \n",
       "6055      11                       3.0             3.0          2   \n",
       "7758      11                       0.0             0.0          2   \n",
       "7997       2                       1.0             1.0          2   \n",
       "...      ...                       ...             ...        ...   \n",
       "61809     11                       3.0             0.0          1   \n",
       "61810     11                       0.0             0.0          1   \n",
       "61811     11                       1.0             1.0          0   \n",
       "61815     11                       4.0             2.0          1   \n",
       "61830      8                       9.0             0.0          0   \n",
       "\n",
       "       total_salary  Location  Company  \n",
       "717        379000.0         6        2  \n",
       "5392       517000.0         9        0  \n",
       "6055       390000.0         4        1  \n",
       "7758       343000.0        15        3  \n",
       "7997       322000.0         4        1  \n",
       "...             ...       ...      ...  \n",
       "61809      487000.0        15        0  \n",
       "61810      277000.0        14        0  \n",
       "61811      302000.0        10        4  \n",
       "61815      341000.0        10        4  \n",
       "61830      391000.0        14        0  \n",
       "\n",
       "[7968 rows x 7 columns]"
      ]
     },
     "execution_count": 40,
     "metadata": {},
     "output_type": "execute_result"
    }
   ],
   "source": [
    "df =df_salary2.drop(['company','location'], axis =1)\n",
    "df"
   ]
  },
  {
   "cell_type": "code",
   "execution_count": 41,
   "id": "c9636285",
   "metadata": {},
   "outputs": [],
   "source": [
    "X = df.drop(\"total_salary\", axis=1) #features\n",
    "y = df[\"total_salary\"] #label"
   ]
  },
  {
   "cell_type": "code",
   "execution_count": 42,
   "id": "91de11ef",
   "metadata": {},
   "outputs": [
    {
     "data": {
      "text/plain": [
       "LinearRegression()"
      ]
     },
     "execution_count": 42,
     "metadata": {},
     "output_type": "execute_result"
    }
   ],
   "source": [
    "from sklearn.linear_model import LinearRegression\n",
    "linear_reg = LinearRegression()\n",
    "linear_reg.fit(X, y.values)"
   ]
  },
  {
   "cell_type": "code",
   "execution_count": 43,
   "id": "c79d214a",
   "metadata": {},
   "outputs": [],
   "source": [
    "y_pred = linear_reg.predict(X)\n"
   ]
  },
  {
   "cell_type": "code",
   "execution_count": 44,
   "id": "f53871ca",
   "metadata": {},
   "outputs": [],
   "source": [
    "from sklearn.metrics import mean_squared_error, mean_absolute_error\n",
    "import numpy as np\n",
    "error = np.sqrt(mean_squared_error(y, y_pred))\n"
   ]
  },
  {
   "cell_type": "code",
   "execution_count": 45,
   "id": "85378e99",
   "metadata": {},
   "outputs": [
    {
     "data": {
      "text/plain": [
       "119113.47657884764"
      ]
     },
     "execution_count": 45,
     "metadata": {},
     "output_type": "execute_result"
    }
   ],
   "source": [
    "error"
   ]
  },
  {
   "cell_type": "code",
   "execution_count": 46,
   "id": "031cb1b5",
   "metadata": {},
   "outputs": [
    {
     "data": {
      "text/plain": [
       "DecisionTreeRegressor(random_state=6)"
      ]
     },
     "execution_count": 46,
     "metadata": {},
     "output_type": "execute_result"
    }
   ],
   "source": [
    "from sklearn.tree import DecisionTreeRegressor\n",
    "dec_tree_reg = DecisionTreeRegressor(random_state=6)\n",
    "dec_tree_reg.fit(X, y.values)"
   ]
  },
  {
   "cell_type": "code",
   "execution_count": 47,
   "id": "1f2a93e0",
   "metadata": {},
   "outputs": [],
   "source": [
    "y_pred = dec_tree_reg.predict(X)"
   ]
  },
  {
   "cell_type": "code",
   "execution_count": 48,
   "id": "b4c76cf7",
   "metadata": {},
   "outputs": [
    {
     "name": "stdout",
     "output_type": "stream",
     "text": [
      "$35,212.86\n"
     ]
    }
   ],
   "source": [
    "error = np.sqrt(mean_squared_error(y, y_pred))\n",
    "print(\"${:,.02f}\".format(error))"
   ]
  },
  {
   "cell_type": "code",
   "execution_count": 49,
   "id": "3262a116",
   "metadata": {},
   "outputs": [
    {
     "data": {
      "text/plain": [
       "RandomForestRegressor(random_state=6)"
      ]
     },
     "execution_count": 49,
     "metadata": {},
     "output_type": "execute_result"
    }
   ],
   "source": [
    "from sklearn.ensemble import RandomForestRegressor\n",
    "random_forest_reg = RandomForestRegressor(random_state=6)\n",
    "random_forest_reg.fit(X, y.values)"
   ]
  },
  {
   "cell_type": "code",
   "execution_count": 50,
   "id": "b9126d27",
   "metadata": {},
   "outputs": [],
   "source": [
    "y_pred = random_forest_reg.predict(X)"
   ]
  },
  {
   "cell_type": "code",
   "execution_count": 51,
   "id": "9d085c9a",
   "metadata": {},
   "outputs": [
    {
     "name": "stdout",
     "output_type": "stream",
     "text": [
      "$45,565.74\n"
     ]
    }
   ],
   "source": [
    "error = np.sqrt(mean_squared_error(y, y_pred))\n",
    "print(\"${:,.02f}\".format(error))"
   ]
  },
  {
   "cell_type": "code",
   "execution_count": 52,
   "id": "5bcd497f",
   "metadata": {},
   "outputs": [
    {
     "data": {
      "text/plain": [
       "GridSearchCV(estimator=DecisionTreeRegressor(random_state=6),\n",
       "             param_grid={'max_depth': [None, 2, 4, 6, 8, 10, 12]},\n",
       "             scoring='neg_mean_squared_error')"
      ]
     },
     "execution_count": 52,
     "metadata": {},
     "output_type": "execute_result"
    }
   ],
   "source": [
    "#to find the best model with the best parameter\n",
    "from sklearn.model_selection import GridSearchCV\n",
    "\n",
    "max_depth = [None, 2,4,6,8,10,12]\n",
    "parameters = {\"max_depth\": max_depth}\n",
    "\n",
    "regressor = DecisionTreeRegressor(random_state=6)\n",
    "gs = GridSearchCV(regressor, parameters, scoring='neg_mean_squared_error')\n",
    "gs.fit(X, y.values)\n"
   ]
  },
  {
   "cell_type": "code",
   "execution_count": 53,
   "id": "1b47fcbf",
   "metadata": {},
   "outputs": [
    {
     "name": "stdout",
     "output_type": "stream",
     "text": [
      "$88,162.99\n"
     ]
    }
   ],
   "source": [
    "regressor = gs.best_estimator_\n",
    "\n",
    "regressor.fit(X, y.values)\n",
    "y_pred = regressor.predict(X)\n",
    "error = np.sqrt(mean_squared_error(y, y_pred))\n",
    "print(\"${:,.02f}\".format(error))"
   ]
  },
  {
   "cell_type": "code",
   "execution_count": 54,
   "id": "099b9342",
   "metadata": {},
   "outputs": [
    {
     "data": {
      "text/html": [
       "<div>\n",
       "<style scoped>\n",
       "    .dataframe tbody tr th:only-of-type {\n",
       "        vertical-align: middle;\n",
       "    }\n",
       "\n",
       "    .dataframe tbody tr th {\n",
       "        vertical-align: top;\n",
       "    }\n",
       "\n",
       "    .dataframe thead th {\n",
       "        text-align: right;\n",
       "    }\n",
       "</style>\n",
       "<table border=\"1\" class=\"dataframe\">\n",
       "  <thead>\n",
       "    <tr style=\"text-align: right;\">\n",
       "      <th></th>\n",
       "      <th>title</th>\n",
       "      <th>working_experience_years</th>\n",
       "      <th>yearsatcompany</th>\n",
       "      <th>Education</th>\n",
       "      <th>Location</th>\n",
       "      <th>Company</th>\n",
       "    </tr>\n",
       "  </thead>\n",
       "  <tbody>\n",
       "    <tr>\n",
       "      <th>717</th>\n",
       "      <td>11</td>\n",
       "      <td>4.0</td>\n",
       "      <td>0.0</td>\n",
       "      <td>2</td>\n",
       "      <td>6</td>\n",
       "      <td>2</td>\n",
       "    </tr>\n",
       "    <tr>\n",
       "      <th>5392</th>\n",
       "      <td>1</td>\n",
       "      <td>1.0</td>\n",
       "      <td>0.0</td>\n",
       "      <td>2</td>\n",
       "      <td>9</td>\n",
       "      <td>0</td>\n",
       "    </tr>\n",
       "    <tr>\n",
       "      <th>6055</th>\n",
       "      <td>11</td>\n",
       "      <td>3.0</td>\n",
       "      <td>3.0</td>\n",
       "      <td>2</td>\n",
       "      <td>4</td>\n",
       "      <td>1</td>\n",
       "    </tr>\n",
       "    <tr>\n",
       "      <th>7758</th>\n",
       "      <td>11</td>\n",
       "      <td>0.0</td>\n",
       "      <td>0.0</td>\n",
       "      <td>2</td>\n",
       "      <td>15</td>\n",
       "      <td>3</td>\n",
       "    </tr>\n",
       "    <tr>\n",
       "      <th>7997</th>\n",
       "      <td>2</td>\n",
       "      <td>1.0</td>\n",
       "      <td>1.0</td>\n",
       "      <td>2</td>\n",
       "      <td>4</td>\n",
       "      <td>1</td>\n",
       "    </tr>\n",
       "  </tbody>\n",
       "</table>\n",
       "</div>"
      ],
      "text/plain": [
       "      title  working_experience_years  yearsatcompany  Education  Location  \\\n",
       "717      11                       4.0             0.0          2         6   \n",
       "5392      1                       1.0             0.0          2         9   \n",
       "6055     11                       3.0             3.0          2         4   \n",
       "7758     11                       0.0             0.0          2        15   \n",
       "7997      2                       1.0             1.0          2         4   \n",
       "\n",
       "      Company  \n",
       "717         2  \n",
       "5392        0  \n",
       "6055        1  \n",
       "7758        3  \n",
       "7997        1  "
      ]
     },
     "execution_count": 54,
     "metadata": {},
     "output_type": "execute_result"
    }
   ],
   "source": [
    "X.head() #features df"
   ]
  },
  {
   "cell_type": "code",
   "execution_count": 55,
   "id": "ba2eefa3",
   "metadata": {},
   "outputs": [
    {
     "data": {
      "text/plain": [
       "array([['Software Engineer', '2', '0', \"Bachelor's Degree\",\n",
       "        'San Francisco, CA', 'Facebook']], dtype='<U17')"
      ]
     },
     "execution_count": 55,
     "metadata": {},
     "output_type": "execute_result"
    }
   ],
   "source": [
    "#testing my model that i will use for my prediction with these \n",
    "#values:  job title, years of working experience, year(s) at company, education, location, company \n",
    "\n",
    "\n",
    "X= np.array([[\"Software Engineer\", 2, 0,\"Bachelor's Degree\",\"San Francisco, CA\",\"Facebook\" ]])\n",
    "X\n"
   ]
  },
  {
   "cell_type": "code",
   "execution_count": 56,
   "id": "fd2c54da",
   "metadata": {},
   "outputs": [
    {
     "data": {
      "text/plain": [
       "array([[11.,  2.,  0.,  0., 11.,  2.]])"
      ]
     },
     "execution_count": 56,
     "metadata": {},
     "output_type": "execute_result"
    }
   ],
   "source": [
    "X[:,0] = le_title.transform(X[:,0])\n",
    "X[:,3] = le_education.transform(X[:,3])\n",
    "X[:,4]  =le_Location .transform(X[:,4])\n",
    "X[:,5]  =le_company.transform(X[:,5])\n",
    "X = X.astype(float)\n",
    "X\n",
    "\n"
   ]
  },
  {
   "cell_type": "code",
   "execution_count": 57,
   "id": "10e6956a",
   "metadata": {},
   "outputs": [
    {
     "data": {
      "text/plain": [
       "array([378701.86335404])"
      ]
     },
     "execution_count": 57,
     "metadata": {},
     "output_type": "execute_result"
    }
   ],
   "source": [
    "y_pred = regressor.predict(X)\n",
    "y_pred"
   ]
  },
  {
   "cell_type": "code",
   "execution_count": 64,
   "id": "d4e12666",
   "metadata": {},
   "outputs": [],
   "source": [
    "#to save our model, we have to import pickle\n",
    "import pickle"
   ]
  },
  {
   "cell_type": "code",
   "execution_count": 61,
   "id": "8b70caf1",
   "metadata": {},
   "outputs": [],
   "source": [
    "data = {\"model\": regressor, \"le_title\": le_title, \"le_education\": le_education, \"le_Location\":le_Location,\"le_company\" :le_company}\n",
    "with open('saved_steps.pkl', 'wb') as file:\n",
    "    pickle.dump(data, file)"
   ]
  },
  {
   "cell_type": "code",
   "execution_count": 62,
   "id": "d910634a",
   "metadata": {},
   "outputs": [],
   "source": [
    "with open('saved_steps.pkl', 'rb') as file:\n",
    "    data = pickle.load(file)\n",
    "\n",
    "regressor_loaded = data[\"model\"]\n",
    "le_title = data[\"le_title\"]\n",
    "le_education = data[\"le_education\"]\n",
    "le_Location =data[\"le_Location\"]\n",
    "le_company = data[\"le_company\"]"
   ]
  },
  {
   "cell_type": "code",
   "execution_count": 63,
   "id": "ccffdd4b",
   "metadata": {},
   "outputs": [
    {
     "data": {
      "text/plain": [
       "array([378701.86335404])"
      ]
     },
     "execution_count": 63,
     "metadata": {},
     "output_type": "execute_result"
    }
   ],
   "source": [
    "#run our prediction with our loaded model\n",
    "y_pred = regressor_loaded.predict(X)\n",
    "y_pred"
   ]
  },
  {
   "cell_type": "code",
   "execution_count": null,
   "id": "3d350114",
   "metadata": {},
   "outputs": [],
   "source": []
  }
 ],
 "metadata": {
  "kernelspec": {
   "display_name": "Python 3 (ipykernel)",
   "language": "python",
   "name": "python3"
  },
  "language_info": {
   "codemirror_mode": {
    "name": "ipython",
    "version": 3
   },
   "file_extension": ".py",
   "mimetype": "text/x-python",
   "name": "python",
   "nbconvert_exporter": "python",
   "pygments_lexer": "ipython3",
   "version": "3.9.12"
  }
 },
 "nbformat": 4,
 "nbformat_minor": 5
}
